{
 "cells": [
  {
   "cell_type": "code",
   "execution_count": 1,
   "metadata": {},
   "outputs": [
    {
     "name": "stdout",
     "output_type": "stream",
     "text": [
      "Collecting nomic"
     ]
    },
    {
     "name": "stderr",
     "output_type": "stream",
     "text": [
      "WARNING: You are using pip version 21.1.1; however, version 23.0.1 is available.\n",
      "You should consider upgrading via the 'c:\\users\\tnort\\documents\\github\\devresources\\gpt4all\\mygpt\\scripts\\python.exe -m pip install --upgrade pip' command.\n"
     ]
    },
    {
     "name": "stdout",
     "output_type": "stream",
     "text": [
      "\n",
      "  Downloading nomic-1.1.6.tar.gz (29 kB)\n",
      "Collecting click\n",
      "  Using cached click-8.1.3-py3-none-any.whl (96 kB)\n",
      "Collecting jsonlines\n",
      "  Downloading jsonlines-3.1.0-py3-none-any.whl (8.6 kB)\n",
      "Collecting loguru\n",
      "  Downloading loguru-0.7.0-py3-none-any.whl (59 kB)\n",
      "Collecting rich\n",
      "  Downloading rich-13.3.3-py3-none-any.whl (238 kB)\n",
      "Collecting requests\n",
      "  Using cached requests-2.28.2-py3-none-any.whl (62 kB)\n",
      "Collecting numpy\n",
      "  Using cached numpy-1.24.2-cp38-cp38-win_amd64.whl (14.9 MB)\n",
      "Collecting pydantic\n",
      "  Downloading pydantic-1.10.7-cp38-cp38-win_amd64.whl (2.2 MB)\n",
      "Collecting wonderwords\n",
      "  Downloading wonderwords-2.2.0-py3-none-any.whl (44 kB)\n",
      "Collecting tqdm\n",
      "  Using cached tqdm-4.65.0-py3-none-any.whl (77 kB)\n",
      "Collecting cohere\n",
      "  Downloading cohere-4.1.4-py3-none-any.whl (28 kB)\n",
      "Collecting pyarrow\n",
      "  Downloading pyarrow-11.0.0-cp38-cp38-win_amd64.whl (20.6 MB)\n",
      "Requirement already satisfied: colorama in c:\\users\\tnort\\documents\\github\\devresources\\gpt4all\\mygpt\\lib\\site-packages (from click->nomic) (0.4.6)\n",
      "Collecting aiohttp<4.0,>=3.0\n",
      "  Downloading aiohttp-3.8.4-cp38-cp38-win_amd64.whl (324 kB)\n",
      "Collecting backoff<3.0,>=2.0\n",
      "  Downloading backoff-2.2.1-py3-none-any.whl (15 kB)\n",
      "Collecting frozenlist>=1.1.1\n",
      "  Downloading frozenlist-1.3.3-cp38-cp38-win_amd64.whl (34 kB)\n",
      "Collecting aiosignal>=1.1.2\n",
      "  Downloading aiosignal-1.3.1-py3-none-any.whl (7.6 kB)\n",
      "Collecting async-timeout<5.0,>=4.0.0a3\n",
      "  Downloading async_timeout-4.0.2-py3-none-any.whl (5.8 kB)\n",
      "Collecting yarl<2.0,>=1.0\n",
      "  Downloading yarl-1.8.2-cp38-cp38-win_amd64.whl (56 kB)\n",
      "Collecting charset-normalizer<4.0,>=2.0\n",
      "  Using cached charset_normalizer-3.1.0-cp38-cp38-win_amd64.whl (96 kB)\n",
      "Collecting multidict<7.0,>=4.5\n",
      "  Downloading multidict-6.0.4-cp38-cp38-win_amd64.whl (28 kB)\n",
      "Collecting attrs>=17.3.0\n",
      "  Using cached attrs-22.2.0-py3-none-any.whl (60 kB)\n",
      "Collecting urllib3<1.27,>=1.21.1\n",
      "  Using cached urllib3-1.26.15-py2.py3-none-any.whl (140 kB)\n",
      "Collecting idna<4,>=2.5\n",
      "  Using cached idna-3.4-py3-none-any.whl (61 kB)\n",
      "Collecting certifi>=2017.4.17\n",
      "  Using cached certifi-2022.12.7-py3-none-any.whl (155 kB)\n",
      "Collecting win32-setctime>=1.0.0\n",
      "  Downloading win32_setctime-1.1.0-py3-none-any.whl (3.6 kB)\n",
      "Requirement already satisfied: typing-extensions>=4.2.0 in c:\\users\\tnort\\documents\\github\\devresources\\gpt4all\\mygpt\\lib\\site-packages (from pydantic->nomic) (4.5.0)\n",
      "Requirement already satisfied: pygments<3.0.0,>=2.13.0 in c:\\users\\tnort\\documents\\github\\devresources\\gpt4all\\mygpt\\lib\\site-packages (from rich->nomic) (2.15.0)\n",
      "Collecting markdown-it-py<3.0.0,>=2.2.0\n",
      "  Downloading markdown_it_py-2.2.0-py3-none-any.whl (84 kB)\n",
      "Collecting mdurl~=0.1\n",
      "  Downloading mdurl-0.1.2-py3-none-any.whl (10.0 kB)\n",
      "Using legacy 'setup.py install' for nomic, since package 'wheel' is not installed.\n",
      "Installing collected packages: multidict, idna, frozenlist, yarl, urllib3, mdurl, charset-normalizer, certifi, attrs, async-timeout, aiosignal, win32-setctime, requests, numpy, markdown-it-py, backoff, aiohttp, wonderwords, tqdm, rich, pydantic, pyarrow, loguru, jsonlines, cohere, click, nomic\n",
      "    Running setup.py install for nomic: started\n",
      "    Running setup.py install for nomic: finished with status 'done'\n",
      "Successfully installed aiohttp-3.8.4 aiosignal-1.3.1 async-timeout-4.0.2 attrs-22.2.0 backoff-2.2.1 certifi-2022.12.7 charset-normalizer-3.1.0 click-8.1.3 cohere-4.1.4 frozenlist-1.3.3 idna-3.4 jsonlines-3.1.0 loguru-0.7.0 markdown-it-py-2.2.0 mdurl-0.1.2 multidict-6.0.4 nomic-1.1.6 numpy-1.24.2 pyarrow-11.0.0 pydantic-1.10.7 requests-2.28.2 rich-13.3.3 tqdm-4.65.0 urllib3-1.26.15 win32-setctime-1.1.0 wonderwords-2.2.0 yarl-1.8.2\n"
     ]
    }
   ],
   "source": [
    "!pip install nomic"
   ]
  },
  {
   "cell_type": "code",
   "execution_count": 4,
   "metadata": {},
   "outputs": [
    {
     "ename": "NameError",
     "evalue": "name 'LLAMA_PATH' is not defined",
     "output_type": "error",
     "traceback": [
      "\u001b[1;31m---------------------------------------------------------------------------\u001b[0m",
      "\u001b[1;31mNameError\u001b[0m                                 Traceback (most recent call last)",
      "Cell \u001b[1;32mIn[4], line 2\u001b[0m\n\u001b[0;32m      1\u001b[0m \u001b[39mfrom\u001b[39;00m \u001b[39mnomic\u001b[39;00m\u001b[39m.\u001b[39;00m\u001b[39mgpt4all\u001b[39;00m \u001b[39mimport\u001b[39;00m GPT4AllGPU\n\u001b[1;32m----> 2\u001b[0m m \u001b[39m=\u001b[39m GPT4AllGPU(LLAMA_PATH)\n\u001b[0;32m      3\u001b[0m config \u001b[39m=\u001b[39m {\u001b[39m'\u001b[39m\u001b[39mnum_beams\u001b[39m\u001b[39m'\u001b[39m: \u001b[39m2\u001b[39m,\n\u001b[0;32m      4\u001b[0m           \u001b[39m'\u001b[39m\u001b[39mmin_new_tokens\u001b[39m\u001b[39m'\u001b[39m: \u001b[39m10\u001b[39m,\n\u001b[0;32m      5\u001b[0m           \u001b[39m'\u001b[39m\u001b[39mmax_length\u001b[39m\u001b[39m'\u001b[39m: \u001b[39m100\u001b[39m,\n\u001b[0;32m      6\u001b[0m           \u001b[39m'\u001b[39m\u001b[39mrepetition_penalty\u001b[39m\u001b[39m'\u001b[39m: \u001b[39m2.0\u001b[39m}\n\u001b[0;32m      7\u001b[0m out \u001b[39m=\u001b[39m m\u001b[39m.\u001b[39mgenerate(\u001b[39m'\u001b[39m\u001b[39mwrite me a story about a lonely computer\u001b[39m\u001b[39m'\u001b[39m, config)\n",
      "\u001b[1;31mNameError\u001b[0m: name 'LLAMA_PATH' is not defined"
     ]
    }
   ],
   "source": [
    "from nomic.gpt4all import GPT4AllGPU\n",
    "m = GPT4AllGPU(chat\\tokenizer.model)\n",
    "config = {'num_beams': 2,\n",
    "          'min_new_tokens': 10,\n",
    "          'max_length': 100,\n",
    "          'repetition_penalty': 2.0}\n",
    "out = m.generate('write me a story about a lonely computer', config)\n",
    "print(out)\n"
   ]
  },
  {
   "cell_type": "code",
   "execution_count": 2,
   "metadata": {},
   "outputs": [
    {
     "name": "stderr",
     "output_type": "stream",
     "text": [
      "\u001b[32m2023-04-11 23:51:36.648\u001b[0m | \u001b[1mINFO    \u001b[0m | \u001b[36mnomic.gpt4all.gpt4all\u001b[0m:\u001b[36m__init__\u001b[0m:\u001b[36m77\u001b[0m - \u001b[1mDownloading executable...\u001b[0m\n"
     ]
    },
    {
     "ename": "NotImplementedError",
     "evalue": "Your platform is not supported: Windows-10-10.0.22621-SP0. Current binaries supported are x86 Linux and ARM Macs.",
     "output_type": "error",
     "traceback": [
      "\u001b[1;31m---------------------------------------------------------------------------\u001b[0m",
      "\u001b[1;31mNotImplementedError\u001b[0m                       Traceback (most recent call last)",
      "Cell \u001b[1;32mIn[2], line 2\u001b[0m\n\u001b[0;32m      1\u001b[0m \u001b[39mfrom\u001b[39;00m \u001b[39mnomic\u001b[39;00m\u001b[39m.\u001b[39;00m\u001b[39mgpt4all\u001b[39;00m \u001b[39mimport\u001b[39;00m GPT4All\n\u001b[1;32m----> 2\u001b[0m m \u001b[39m=\u001b[39m GPT4All()\n\u001b[0;32m      3\u001b[0m m\u001b[39m.\u001b[39mopen()\n\u001b[0;32m      4\u001b[0m m\u001b[39m.\u001b[39mprompt(\u001b[39m'\u001b[39m\u001b[39mwrite me a 150 word story about a lonely computer\u001b[39m\u001b[39m'\u001b[39m)\n",
      "File \u001b[1;32mc:\\Users\\tnort\\Documents\\GitHub\\DevResources\\gpt4all\\mygpt\\lib\\site-packages\\nomic\\gpt4all\\gpt4all.py:78\u001b[0m, in \u001b[0;36mGPT4All.__init__\u001b[1;34m(self, model, force_download, decoder_config)\u001b[0m\n\u001b[0;32m     76\u001b[0m \u001b[39mif\u001b[39;00m force_download \u001b[39mor\u001b[39;00m \u001b[39mnot\u001b[39;00m \u001b[39mself\u001b[39m\u001b[39m.\u001b[39mexecutable_path\u001b[39m.\u001b[39mexists():\n\u001b[0;32m     77\u001b[0m     logger\u001b[39m.\u001b[39minfo(\u001b[39m'\u001b[39m\u001b[39mDownloading executable...\u001b[39m\u001b[39m'\u001b[39m)\n\u001b[1;32m---> 78\u001b[0m     \u001b[39mself\u001b[39;49m\u001b[39m.\u001b[39;49m_download_executable()\n\u001b[0;32m     79\u001b[0m \u001b[39mif\u001b[39;00m force_download \u001b[39mor\u001b[39;00m \u001b[39mnot\u001b[39;00m (\u001b[39mself\u001b[39m\u001b[39m.\u001b[39mmodel_path\u001b[39m.\u001b[39mexists() \u001b[39mand\u001b[39;00m \u001b[39mself\u001b[39m\u001b[39m.\u001b[39mmodel_path\u001b[39m.\u001b[39mstat()\u001b[39m.\u001b[39mst_size \u001b[39m>\u001b[39m \u001b[39m0\u001b[39m):                                   \n\u001b[0;32m     80\u001b[0m     logger\u001b[39m.\u001b[39minfo(\u001b[39m'\u001b[39m\u001b[39mDownloading model...\u001b[39m\u001b[39m'\u001b[39m)\n",
      "File \u001b[1;32mc:\\Users\\tnort\\Documents\\GitHub\\DevResources\\gpt4all\\mygpt\\lib\\site-packages\\nomic\\gpt4all\\gpt4all.py:119\u001b[0m, in \u001b[0;36mGPT4All._download_executable\u001b[1;34m(self)\u001b[0m\n\u001b[0;32m    117\u001b[0m     upstream \u001b[39m=\u001b[39m \u001b[39m'\u001b[39m\u001b[39mhttps://static.nomic.ai/gpt4all/gpt4all-pywrap-linux-x86_64\u001b[39m\u001b[39m'\u001b[39m\n\u001b[0;32m    118\u001b[0m \u001b[39melse\u001b[39;00m:\n\u001b[1;32m--> 119\u001b[0m     \u001b[39mraise\u001b[39;00m \u001b[39mNotImplementedError\u001b[39;00m(\u001b[39mf\u001b[39m\u001b[39m\"\u001b[39m\u001b[39mYour platform is not supported: \u001b[39m\u001b[39m{\u001b[39;00mplat\u001b[39m}\u001b[39;00m\u001b[39m. Current binaries supported are x86 Linux and ARM Macs.\u001b[39m\u001b[39m\"\u001b[39m)\n\u001b[0;32m    120\u001b[0m response \u001b[39m=\u001b[39m requests\u001b[39m.\u001b[39mget(upstream, stream\u001b[39m=\u001b[39m\u001b[39mTrue\u001b[39;00m)\n\u001b[0;32m    121\u001b[0m \u001b[39mif\u001b[39;00m response\u001b[39m.\u001b[39mstatus_code \u001b[39m==\u001b[39m \u001b[39m200\u001b[39m:\n",
      "\u001b[1;31mNotImplementedError\u001b[0m: Your platform is not supported: Windows-10-10.0.22621-SP0. Current binaries supported are x86 Linux and ARM Macs."
     ]
    }
   ],
   "source": [
    "from nomic.gpt4all import GPT4All\n",
    "m = GPT4All()\n",
    "m.open()\n",
    "m.prompt('write me a 150 word story about a lonely computer')"
   ]
  },
  {
   "cell_type": "code",
   "execution_count": 2,
   "metadata": {},
   "outputs": [
    {
     "name": "stdout",
     "output_type": "stream",
     "text": [
      "Requirement already satisfied: pyllamacpp in c:\\users\\tnort\\documents\\github\\devresources\\gpt4all\\mygpt\\lib\\site-packages (1.0.6)\n",
      "Requirement already satisfied: torch in c:\\users\\tnort\\documents\\github\\devresources\\gpt4all\\mygpt\\lib\\site-packages (from pyllamacpp) (2.0.0)\n",
      "Requirement already satisfied: streamlit in c:\\users\\tnort\\documents\\github\\devresources\\gpt4all\\mygpt\\lib\\site-packages (from pyllamacpp) (1.21.0)\n",
      "Requirement already satisfied: streamlit-ace in c:\\users\\tnort\\documents\\github\\devresources\\gpt4all\\mygpt\\lib\\site-packages (from pyllamacpp) (0.1.1)\n",
      "Requirement already satisfied: sentencepiece in c:\\users\\tnort\\documents\\github\\devresources\\gpt4all\\mygpt\\lib\\site-packages (from pyllamacpp) (0.1.97)\n",
      "Requirement already satisfied: click>=7.0 in c:\\users\\tnort\\documents\\github\\devresources\\gpt4all\\mygpt\\lib\\site-packages (from streamlit->pyllamacpp) (8.1.3)\n",
      "Requirement already satisfied: altair<5,>=3.2.0 in c:\\users\\tnort\\documents\\github\\devresources\\gpt4all\\mygpt\\lib\\site-packages (from streamlit->pyllamacpp) (4.2.2)\n",
      "Requirement already satisfied: blinker>=1.0.0 in c:\\users\\tnort\\documents\\github\\devresources\\gpt4all\\mygpt\\lib\\site-packages (from streamlit->pyllamacpp) (1.6.1)\n",
      "Requirement already satisfied: watchdog in c:\\users\\tnort\\documents\\github\\devresources\\gpt4all\\mygpt\\lib\\site-packages (from streamlit->pyllamacpp) (3.0.0)\n",
      "Requirement already satisfied: pandas<2,>=0.25 in c:\\users\\tnort\\documents\\github\\devresources\\gpt4all\\mygpt\\lib\\site-packages (from streamlit->pyllamacpp) (1.5.3)\n",
      "Requirement already satisfied: pyarrow>=4.0 in c:\\users\\tnort\\documents\\github\\devresources\\gpt4all\\mygpt\\lib\\site-packages (from streamlit->pyllamacpp) (11.0.0)\n",
      "Requirement already satisfied: python-dateutil in c:\\users\\tnort\\documents\\github\\devresources\\gpt4all\\mygpt\\lib\\site-packages (from streamlit->pyllamacpp) (2.8.2)\n",
      "Requirement already satisfied: requests>=2.4 in c:\\users\\tnort\\documents\\github\\devresources\\gpt4all\\mygpt\\lib\\site-packages (from streamlit->pyllamacpp) (2.28.2)\n",
      "Requirement already satisfied: tzlocal>=1.1 in c:\\users\\tnort\\documents\\github\\devresources\\gpt4all\\mygpt\\lib\\site-packages (from streamlit->pyllamacpp) (4.3)\n",
      "Requirement already satisfied: rich>=10.11.0 in c:\\users\\tnort\\documents\\github\\devresources\\gpt4all\\mygpt\\lib\\site-packages (from streamlit->pyllamacpp) (13.3.3)\n",
      "Requirement already satisfied: pydeck>=0.1.dev5 in c:\\users\\tnort\\documents\\github\\devresources\\gpt4all\\mygpt\\lib\\site-packages (from streamlit->pyllamacpp) (0.8.0)\n",
      "Requirement already satisfied: protobuf<4,>=3.12 in c:\\users\\tnort\\documents\\github\\devresources\\gpt4all\\mygpt\\lib\\site-packages (from streamlit->pyllamacpp) (3.20.3)\n",
      "Requirement already satisfied: toml in c:\\users\\tnort\\documents\\github\\devresources\\gpt4all\\mygpt\\lib\\site-packages (from streamlit->pyllamacpp) (0.10.2)\n",
      "Requirement already satisfied: numpy in c:\\users\\tnort\\documents\\github\\devresources\\gpt4all\\mygpt\\lib\\site-packages (from streamlit->pyllamacpp) (1.24.2)\n",
      "Requirement already satisfied: validators>=0.2 in c:\\users\\tnort\\documents\\github\\devresources\\gpt4all\\mygpt\\lib\\site-packages (from streamlit->pyllamacpp) (0.20.0)\n",
      "Requirement already satisfied: pillow>=6.2.0 in c:\\users\\tnort\\documents\\github\\devresources\\gpt4all\\mygpt\\lib\\site-packages (from streamlit->pyllamacpp) (9.5.0)\n",
      "Requirement already satisfied: gitpython!=3.1.19 in c:\\users\\tnort\\documents\\github\\devresources\\gpt4all\\mygpt\\lib\\site-packages (from streamlit->pyllamacpp) (3.1.31)\n",
      "Requirement already satisfied: typing-extensions>=3.10.0.0 in c:\\users\\tnort\\documents\\github\\devresources\\gpt4all\\mygpt\\lib\\site-packages (from streamlit->pyllamacpp) (4.5.0)\n",
      "Requirement already satisfied: importlib-metadata>=1.4 in c:\\users\\tnort\\documents\\github\\devresources\\gpt4all\\mygpt\\lib\\site-packages (from streamlit->pyllamacpp) (6.3.0)\n",
      "Requirement already satisfied: packaging>=14.1 in c:\\users\\tnort\\documents\\github\\devresources\\gpt4all\\mygpt\\lib\\site-packages (from streamlit->pyllamacpp) (23.0)\n",
      "Requirement already satisfied: pympler>=0.9 in c:\\users\\tnort\\documents\\github\\devresources\\gpt4all\\mygpt\\lib\\site-packages (from streamlit->pyllamacpp) (1.0.1)\n",
      "Requirement already satisfied: tornado>=6.0.3 in c:\\users\\tnort\\documents\\github\\devresources\\gpt4all\\mygpt\\lib\\site-packages (from streamlit->pyllamacpp) (6.2)\n",
      "Requirement already satisfied: cachetools>=4.0 in c:\\users\\tnort\\documents\\github\\devresources\\gpt4all\\mygpt\\lib\\site-packages (from streamlit->pyllamacpp) (5.3.0)\n",
      "Requirement already satisfied: jsonschema>=3.0 in c:\\users\\tnort\\documents\\github\\devresources\\gpt4all\\mygpt\\lib\\site-packages (from altair<5,>=3.2.0->streamlit->pyllamacpp) (4.17.3)\n",
      "Requirement already satisfied: entrypoints in c:\\users\\tnort\\documents\\github\\devresources\\gpt4all\\mygpt\\lib\\site-packages (from altair<5,>=3.2.0->streamlit->pyllamacpp) (0.4)\n",
      "Requirement already satisfied: jinja2 in c:\\users\\tnort\\documents\\github\\devresources\\gpt4all\\mygpt\\lib\\site-packages (from altair<5,>=3.2.0->streamlit->pyllamacpp) (3.1.2)\n",
      "Requirement already satisfied: toolz in c:\\users\\tnort\\documents\\github\\devresources\\gpt4all\\mygpt\\lib\\site-packages (from altair<5,>=3.2.0->streamlit->pyllamacpp) (0.12.0)\n",
      "Requirement already satisfied: colorama in c:\\users\\tnort\\documents\\github\\devresources\\gpt4all\\mygpt\\lib\\site-packages (from click>=7.0->streamlit->pyllamacpp) (0.4.6)\n",
      "Requirement already satisfied: gitdb<5,>=4.0.1 in c:\\users\\tnort\\documents\\github\\devresources\\gpt4all\\mygpt\\lib\\site-packages (from gitpython!=3.1.19->streamlit->pyllamacpp) (4.0.10)\n",
      "Requirement already satisfied: smmap<6,>=3.0.1 in c:\\users\\tnort\\documents\\github\\devresources\\gpt4all\\mygpt\\lib\\site-packages (from gitdb<5,>=4.0.1->gitpython!=3.1.19->streamlit->pyllamacpp) (5.0.0)\n",
      "Requirement already satisfied: zipp>=0.5 in c:\\users\\tnort\\documents\\github\\devresources\\gpt4all\\mygpt\\lib\\site-packages (from importlib-metadata>=1.4->streamlit->pyllamacpp) (3.15.0)\n",
      "Requirement already satisfied: pyrsistent!=0.17.0,!=0.17.1,!=0.17.2,>=0.14.0 in c:\\users\\tnort\\documents\\github\\devresources\\gpt4all\\mygpt\\lib\\site-packages (from jsonschema>=3.0->altair<5,>=3.2.0->streamlit->pyllamacpp) (0.19.3)\n",
      "Requirement already satisfied: pkgutil-resolve-name>=1.3.10 in c:\\users\\tnort\\documents\\github\\devresources\\gpt4all\\mygpt\\lib\\site-packages (from jsonschema>=3.0->altair<5,>=3.2.0->streamlit->pyllamacpp) (1.3.10)\n",
      "Requirement already satisfied: importlib-resources>=1.4.0 in c:\\users\\tnort\\documents\\github\\devresources\\gpt4all\\mygpt\\lib\\site-packages (from jsonschema>=3.0->altair<5,>=3.2.0->streamlit->pyllamacpp) (5.12.0)\n",
      "Requirement already satisfied: attrs>=17.4.0 in c:\\users\\tnort\\documents\\github\\devresources\\gpt4all\\mygpt\\lib\\site-packages (from jsonschema>=3.0->altair<5,>=3.2.0->streamlit->pyllamacpp) (22.2.0)\n",
      "Requirement already satisfied: pytz>=2020.1 in c:\\users\\tnort\\documents\\github\\devresources\\gpt4all\\mygpt\\lib\\site-packages (from pandas<2,>=0.25->streamlit->pyllamacpp) (2023.3)\n",
      "Requirement already satisfied: MarkupSafe>=2.0 in c:\\users\\tnort\\documents\\github\\devresources\\gpt4all\\mygpt\\lib\\site-packages (from jinja2->altair<5,>=3.2.0->streamlit->pyllamacpp) (2.1.2)\n",
      "Requirement already satisfied: six>=1.5 in c:\\users\\tnort\\documents\\github\\devresources\\gpt4all\\mygpt\\lib\\site-packages (from python-dateutil->streamlit->pyllamacpp) (1.16.0)\n",
      "Requirement already satisfied: urllib3<1.27,>=1.21.1 in c:\\users\\tnort\\documents\\github\\devresources\\gpt4all\\mygpt\\lib\\site-packages (from requests>=2.4->streamlit->pyllamacpp) (1.26.15)\n",
      "Requirement already satisfied: charset-normalizer<4,>=2 in c:\\users\\tnort\\documents\\github\\devresources\\gpt4all\\mygpt\\lib\\site-packages (from requests>=2.4->streamlit->pyllamacpp) (3.1.0)\n",
      "Requirement already satisfied: certifi>=2017.4.17 in c:\\users\\tnort\\documents\\github\\devresources\\gpt4all\\mygpt\\lib\\site-packages (from requests>=2.4->streamlit->pyllamacpp) (2022.12.7)\n",
      "Requirement already satisfied: idna<4,>=2.5 in c:\\users\\tnort\\documents\\github\\devresources\\gpt4all\\mygpt\\lib\\site-packages (from requests>=2.4->streamlit->pyllamacpp) (3.4)\n",
      "Requirement already satisfied: pygments<3.0.0,>=2.13.0 in c:\\users\\tnort\\documents\\github\\devresources\\gpt4all\\mygpt\\lib\\site-packages (from rich>=10.11.0->streamlit->pyllamacpp) (2.15.0)\n",
      "Requirement already satisfied: markdown-it-py<3.0.0,>=2.2.0 in c:\\users\\tnort\\documents\\github\\devresources\\gpt4all\\mygpt\\lib\\site-packages (from rich>=10.11.0->streamlit->pyllamacpp) (2.2.0)\n",
      "Requirement already satisfied: mdurl~=0.1 in c:\\users\\tnort\\documents\\github\\devresources\\gpt4all\\mygpt\\lib\\site-packages (from markdown-it-py<3.0.0,>=2.2.0->rich>=10.11.0->streamlit->pyllamacpp) (0.1.2)\n",
      "Requirement already satisfied: tzdata in c:\\users\\tnort\\documents\\github\\devresources\\gpt4all\\mygpt\\lib\\site-packages (from tzlocal>=1.1->streamlit->pyllamacpp) (2023.3)\n",
      "Requirement already satisfied: pytz-deprecation-shim in c:\\users\\tnort\\documents\\github\\devresources\\gpt4all\\mygpt\\lib\\site-packages (from tzlocal>=1.1->streamlit->pyllamacpp) (0.1.0.post0)\n",
      "Requirement already satisfied: backports.zoneinfo in c:\\users\\tnort\\documents\\github\\devresources\\gpt4all\\mygpt\\lib\\site-packages (from tzlocal>=1.1->streamlit->pyllamacpp) (0.2.1)\n",
      "Requirement already satisfied: decorator>=3.4.0 in c:\\users\\tnort\\documents\\github\\devresources\\gpt4all\\mygpt\\lib\\site-packages (from validators>=0.2->streamlit->pyllamacpp) (5.1.1)\n",
      "Requirement already satisfied: filelock in c:\\users\\tnort\\documents\\github\\devresources\\gpt4all\\mygpt\\lib\\site-packages (from torch->pyllamacpp) (3.11.0)\n",
      "Requirement already satisfied: sympy in c:\\users\\tnort\\documents\\github\\devresources\\gpt4all\\mygpt\\lib\\site-packages (from torch->pyllamacpp) (1.11.1)\n",
      "Requirement already satisfied: networkx in c:\\users\\tnort\\documents\\github\\devresources\\gpt4all\\mygpt\\lib\\site-packages (from torch->pyllamacpp) (3.1)\n",
      "Requirement already satisfied: mpmath>=0.19 in c:\\users\\tnort\\documents\\github\\devresources\\gpt4all\\mygpt\\lib\\site-packages (from sympy->torch->pyllamacpp) (1.3.0)\n"
     ]
    },
    {
     "name": "stderr",
     "output_type": "stream",
     "text": [
      "WARNING: You are using pip version 21.1.1; however, version 23.0.1 is available.\n",
      "You should consider upgrading via the 'c:\\users\\tnort\\documents\\github\\devresources\\gpt4all\\mygpt\\scripts\\python.exe -m pip install --upgrade pip' command.\n"
     ]
    }
   ],
   "source": [
    "!pip install pyllamacpp\n"
   ]
  },
  {
   "cell_type": "code",
   "execution_count": 3,
   "metadata": {},
   "outputs": [
    {
     "ename": "Exception",
     "evalue": "File \\chat\\gpt4all-lora-unfiltered-quantized.bin not found!",
     "output_type": "error",
     "traceback": [
      "\u001b[1;31m---------------------------------------------------------------------------\u001b[0m",
      "\u001b[1;31mException\u001b[0m                                 Traceback (most recent call last)",
      "Cell \u001b[1;32mIn[3], line 8\u001b[0m\n\u001b[0;32m      4\u001b[0m \u001b[39mdef\u001b[39;00m \u001b[39mnew_text_callback\u001b[39m(text: \u001b[39mstr\u001b[39m):\n\u001b[0;32m      5\u001b[0m     \u001b[39mprint\u001b[39m(text, end\u001b[39m=\u001b[39m\u001b[39m\"\u001b[39m\u001b[39m\"\u001b[39m, flush\u001b[39m=\u001b[39m\u001b[39mTrue\u001b[39;00m)\n\u001b[1;32m----> 8\u001b[0m model \u001b[39m=\u001b[39m Model(\n\u001b[0;32m      9\u001b[0m     ggml_model\u001b[39m=\u001b[39;49m\u001b[39m'\u001b[39;49m\u001b[39m\\\u001b[39;49m\u001b[39mchat\u001b[39;49m\u001b[39m\\\u001b[39;49m\u001b[39mgpt4all-lora-unfiltered-quantized.bin\u001b[39;49m\u001b[39m'\u001b[39;49m, n_ctx\u001b[39m=\u001b[39;49m\u001b[39m512\u001b[39;49m)\n\u001b[0;32m     10\u001b[0m model\u001b[39m.\u001b[39mgenerate(\u001b[39m\"\u001b[39m\u001b[39mOnce upon a time, \u001b[39m\u001b[39m\"\u001b[39m, n_predict\u001b[39m=\u001b[39m\u001b[39m55\u001b[39m,\n\u001b[0;32m     11\u001b[0m                new_text_callback\u001b[39m=\u001b[39mnew_text_callback, n_threads\u001b[39m=\u001b[39m\u001b[39m8\u001b[39m)\n",
      "File \u001b[1;32mc:\\Users\\tnort\\Documents\\GitHub\\DevResources\\gpt4all\\mygpt\\lib\\site-packages\\pyllamacpp\\model.py:54\u001b[0m, in \u001b[0;36mModel.__init__\u001b[1;34m(self, ggml_model, log_level, **llama_params)\u001b[0m\n\u001b[0;32m     51\u001b[0m \u001b[39mself\u001b[39m\u001b[39m.\u001b[39m_ctx \u001b[39m=\u001b[39m \u001b[39mNone\u001b[39;00m\n\u001b[0;32m     53\u001b[0m \u001b[39mif\u001b[39;00m \u001b[39mnot\u001b[39;00m Path(ggml_model)\u001b[39m.\u001b[39mis_file():\n\u001b[1;32m---> 54\u001b[0m     \u001b[39mraise\u001b[39;00m \u001b[39mException\u001b[39;00m(\u001b[39mf\u001b[39m\u001b[39m\"\u001b[39m\u001b[39mFile \u001b[39m\u001b[39m{\u001b[39;00mggml_model\u001b[39m}\u001b[39;00m\u001b[39m not found!\u001b[39m\u001b[39m\"\u001b[39m)\n\u001b[0;32m     56\u001b[0m \u001b[39mself\u001b[39m\u001b[39m.\u001b[39mllama_params \u001b[39m=\u001b[39m pp\u001b[39m.\u001b[39mllama_context_default_params()\n\u001b[0;32m     57\u001b[0m \u001b[39m# update llama_params\u001b[39;00m\n",
      "\u001b[1;31mException\u001b[0m: File \\chat\\gpt4all-lora-unfiltered-quantized.bin not found!"
     ]
    }
   ],
   "source": [
    "from pyllamacpp.model import Model\n",
    "\n",
    "\n",
    "def new_text_callback(text: str):\n",
    "    print(text, end=\"\", flush=True)\n",
    "\n",
    "\n",
    "model = Model(\n",
    "    ggml_model='\\chat\\gpt4all-lora-unfiltered-quantized.bin', n_ctx=512)\n",
    "model.generate(\"Once upon a time, \", n_predict=55,\n",
    "               new_text_callback=new_text_callback, n_threads=8)\n"
   ]
  },
  {
   "cell_type": "code",
   "execution_count": null,
   "metadata": {},
   "outputs": [],
   "source": []
  }
 ],
 "metadata": {
  "kernelspec": {
   "display_name": "mygpt",
   "language": "python",
   "name": "python3"
  },
  "language_info": {
   "codemirror_mode": {
    "name": "ipython",
    "version": 3
   },
   "file_extension": ".py",
   "mimetype": "text/x-python",
   "name": "python",
   "nbconvert_exporter": "python",
   "pygments_lexer": "ipython3",
   "version": "3.8.10"
  },
  "orig_nbformat": 4
 },
 "nbformat": 4,
 "nbformat_minor": 2
}
